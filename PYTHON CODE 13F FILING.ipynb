import pandas as pd

# Specify the path to your CSV file
csv_file_path = "Berkshire Hathaway.csv"

# Read the CSV file into a pandas DataFrame
df = pd.read_csv(csv_file_path)


# Filter rows where 'Chg %' is 'NEW' and sort by 'Chg %'
new_investments = df[df['Chg %'] == 'NEW'].sort_values(by='Chg %')


# Filter rows where 'Chg %' is 'NEW' and sort by 'Chg %'
sold_investments = df[df['Chg %'] == '-100%'].sort_values(by='Chg %')

# Define the text in bold
bold_text = "\033[1mBerkshire Hathaway has made new investment in the following:\033[0m"

# Display the corresponding entries of 'Q3 2023' and 'Issuer Name' columns in table format
print(bold_text)
print(new_investments[['Ticker','Issuer Name', 'Q3 2023' ]].to_string(index=False))
 
print(" ")
print(" ")
print(" ")
 
# Define the text in bold
bold_text = "\033[1mBerkshire Hathaway has sold the following investments in Q3 2023:\033[0m"

# Display the corresponding entries of 'Q3 2023' and 'Issuer Name' columns in table format
print(bold_text)
print(sold_investments[['Ticker','Issuer Name', 'Q3 2023' ]].to_string(index=False))
